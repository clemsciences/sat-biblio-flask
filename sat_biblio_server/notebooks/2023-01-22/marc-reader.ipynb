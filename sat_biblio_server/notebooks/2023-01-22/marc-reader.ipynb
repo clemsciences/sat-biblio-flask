{
 "cells": [
  {
   "cell_type": "markdown",
   "source": [
    "# MARC reader\n",
    "\n"
   ],
   "metadata": {
    "collapsed": false
   }
  },
  {
   "cell_type": "code",
   "execution_count": null,
   "outputs": [],
   "source": [
    "import os\n",
    "\n",
    "\n",
    "class MARC:\n",
    "    def __init__(self):\n",
    "        self.raw = \"\"\n",
    "        self.isbn = \"\"\n",
    "        self.title_information = \"\"\n",
    "        self.edition = \"\"\n",
    "        self.publication_information = \"\"\n",
    "        self.physical_description = \"\"\n",
    "        self.series_statement = \"\"\n",
    "        self.annotation_or_summary_note = \"\"\n",
    "        self.topical_subject_heading = \"\"\n",
    "        self.personal_name_added_entry = \"\"\n",
    "\n",
    "        pass\n",
    "\n",
    "    def read(self, filename):\n",
    "\n",
    "        with open(filename, \"r\") as f:\n",
    "            self.raw = f.read()\n",
    "\n",
    "    def parse(self):\n",
    "        for line in self.raw.split(os.linesep):\n",
    "            self.parse_line(line)\n",
    "\n",
    "    def parse_line(self, line: str):\n",
    "        items = [i for i in line.split(\" \") if i]\n",
    "        tag = items[0]\n",
    "        tag_to_fields = {\n",
    "            \"010\": self._parse_lccn,\n",
    "            \"020\": self._parse_isbn,\n",
    "            \"100\": self._parse_main_author,\n",
    "            \"245\": self._parse_title_info,\n",
    "            \"250\": self._parse_edition,\n",
    "            \"260\": self._parse_publication_information,\n",
    "            \"300\": self._parse_physical_description,\n",
    "            \"490\": self._parse_series_statement,\n",
    "            \"520\": self._parse_annotation_or_summary,\n",
    "            \"650\": self._parse_topical_subject_heading,\n",
    "            \"700\": self._parse_personal_name_added_entry\n",
    "        }\n",
    "        tag_to_fields[tag](items[1:])\n",
    "\n",
    "    def _parse_indicator(self, items):\n",
    "        first_indicator = items[0][0]\n",
    "        non_filling_characters = items[0][1]\n",
    "        return items[1:]\n",
    "\n",
    "    def _parse_lccn(self, items):\n",
    "        pass\n",
    "\n",
    "    def _parse_isbn(self, items):\n",
    "        pass\n",
    "\n",
    "    def _parse_main_author(self, items):\n",
    "        pass\n",
    "\n",
    "    def _parse_title_info(self, items):\n",
    "        pass\n",
    "\n",
    "    def _parse_edition(self, items):\n",
    "        pass\n",
    "\n",
    "    def _parse_publication_information(self, items):\n",
    "        pass\n",
    "\n",
    "    def _parse_physical_description(self, items):\n",
    "        pass\n",
    "\n",
    "    def _parse_series_statement(self, items):\n",
    "        pass\n",
    "\n",
    "    def _parse_annotation_or_summary(self, items):\n",
    "        pass\n",
    "\n",
    "    def _parse_topical_subject_heading(self, items):\n",
    "        pass\n",
    "\n",
    "    def _parse_personal_name_added_entry(self, items):\n",
    "        pass\n",
    "\n",
    "\n",
    "\n",
    "\n",
    "\n"
   ],
   "metadata": {
    "collapsed": false
   }
  },
  {
   "cell_type": "code",
   "execution_count": null,
   "outputs": [],
   "source": [],
   "metadata": {
    "collapsed": false
   }
  },
  {
   "cell_type": "code",
   "execution_count": null,
   "outputs": [],
   "source": [],
   "metadata": {
    "collapsed": false
   }
  },
  {
   "cell_type": "code",
   "execution_count": null,
   "outputs": [],
   "source": [],
   "metadata": {
    "collapsed": false
   }
  },
  {
   "cell_type": "code",
   "execution_count": null,
   "outputs": [],
   "source": [],
   "metadata": {
    "collapsed": false
   }
  },
  {
   "cell_type": "code",
   "execution_count": null,
   "outputs": [],
   "source": [],
   "metadata": {
    "collapsed": false
   }
  },
  {
   "cell_type": "code",
   "execution_count": null,
   "outputs": [],
   "source": [],
   "metadata": {
    "collapsed": false
   }
  }
 ],
 "metadata": {
  "kernelspec": {
   "display_name": "Python 3",
   "language": "python",
   "name": "python3"
  },
  "language_info": {
   "codemirror_mode": {
    "name": "ipython",
    "version": 2
   },
   "file_extension": ".py",
   "mimetype": "text/x-python",
   "name": "python",
   "nbconvert_exporter": "python",
   "pygments_lexer": "ipython2",
   "version": "2.7.6"
  }
 },
 "nbformat": 4,
 "nbformat_minor": 0
}
