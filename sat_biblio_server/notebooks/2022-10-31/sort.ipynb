{
 "cells": [
  {
   "cell_type": "code",
   "execution_count": 1,
   "metadata": {
    "collapsed": true
   },
   "outputs": [],
   "source": [
    "from sat_biblio_server.managers.catalogue_manager import CatalogueConverter\n",
    "from sat_biblio_server.managers.export_manager import ExportCatalogueManager\n",
    "from sat_biblio_server.managers.import_manager import ImportManager"
   ]
  },
  {
   "cell_type": "code",
   "execution_count": 2,
   "outputs": [],
   "source": [
    "catalogue_books = \"22 10 29 Inventaire des livres .xlsx\"\n",
    "catalogue_no_books = \"22 10 30 Inventaire ouvrages hors livres.xlsx\""
   ],
   "metadata": {
    "collapsed": false
   }
  },
  {
   "cell_type": "code",
   "execution_count": 3,
   "outputs": [
    {
     "name": "stderr",
     "output_type": "stream",
     "text": [
      "c:\\users\\clems\\pycharmprojects\\sat-biblio-flask\\venv\\lib\\site-packages\\openpyxl\\worksheet\\_reader.py:312: UserWarning: Unknown extension is not supported and will be removed\n",
      "  warn(msg)\n"
     ]
    }
   ],
   "source": [
    "imported_books = ImportManager.import_hamelain_3(catalogue_books, 2)\n",
    "imported_no_books = ImportManager.import_hamelain_3(catalogue_no_books, 2)\n"
   ],
   "metadata": {
    "collapsed": false
   }
  },
  {
   "cell_type": "code",
   "execution_count": 4,
   "outputs": [
    {
     "data": {
      "text/plain": "(7427, 8065)"
     },
     "execution_count": 4,
     "metadata": {},
     "output_type": "execute_result"
    }
   ],
   "source": [
    "len(imported_books.rows), len(imported_no_books.rows)"
   ],
   "metadata": {
    "collapsed": false
   }
  },
  {
   "cell_type": "code",
   "execution_count": 5,
   "outputs": [],
   "source": [
    "imported_books.sort_by_cote()\n",
    "imported_no_books.sort_by_cote()"
   ],
   "metadata": {
    "collapsed": false
   }
  },
  {
   "cell_type": "code",
   "execution_count": 5,
   "outputs": [],
   "source": [],
   "metadata": {
    "collapsed": false
   }
  },
  {
   "cell_type": "code",
   "execution_count": 6,
   "outputs": [
    {
     "name": "stderr",
     "output_type": "stream",
     "text": [
      "ERROR:root:['A 0001-ATTENTION', 'Reille (Karl', '', \" Deux cents châteaux et gentilhommières d'Indre-et-Loire\", ' 1934(manquant dans cette ligne)', 'manquant dans cette ligne', 'manquant dans cette ligne', 'manquant dans cette ligne', ' Touraine  château ', ' Transféré sur inventaire forme 2022 ', 'manquant dans cette ligne', 'manquant dans cette ligne']\n",
      "ERROR:root:['B 0913', 'Des hommes et des bateaux sur la Loire', 'Bourgeois (Jean), Prasquier (Hubert)', ' 142 p.', ' 2008 (Savonnières)', 'achat 06.10', 'Bourgeois (Jean), Prasquier (Hubert), Des hommes et des bateaux sur la Loire, Savonnières, 2008, 142 p., B 913', '', ' Touraine  Loire  marine ', '', 'description -> Bourgeois (Jean), Prasquier (Hubert), Des hommes et des bateaux sur la Loire, Savonnières, 2008, 142 p., B 913 ; cote -> B 913 ; nb_supp ->  ; annee -> 2010 ; provenance -> achat 06.10 ; theme1 -> Touraine ; theme2 -> Loire ; theme3 -> marine ; index -> 818', '']\n",
      "ERROR:root:['C 0237 A', 'Sainte-Maure-de-Touraine', 'Montrot (Ernest)', ' 1935', ' Arrault et Cie (Tours)', '', 'Montrot (Ernest), Sainte-Maure-de-Touraine, Tours, Arrault et Cie, 1935, 158 p. C 237 A', '', ' Touraine  Sainbte-Maure-de-Touraine ', '', 'description -> Montrot (Ernest), Sainte-Maure-de-Touraine, Tours, Arrault et Cie, 1935, 158 p. C 237 A ; cote -> C 237 A ; nb_supp ->  ; annee ->  ; provenance ->  ; theme1 -> Touraine ; theme2 -> Sainbte-Maure-de-Touraine ; theme3 ->  ; index -> 5367', '']\n",
      "ERROR:root:['C 1240', 'Le Loir-et-Cher', '[collectif] (-)', ' 6è édition', ' Ed. Larrieu-Bonnel (Toulouse)', '', '[Collectif], Le Loir-et-Cher,Toulouse, Ed. Larrieu-Bonnel, 6è édition, s.d., 102 p. C 1240', '', ' Loir-et-Cher  identité 20e ', '', 'description -> [Collectif], Le Loir-et-Cher,Toulouse, Ed. Larrieu-Bonnel, 6è édition, s.d., 102 p. C 1240 ; cote -> C 1240 ; nb_supp ->  ; annee ->  ; provenance ->  ; theme1 -> Loir-et-Cher ; theme2 -> identité 20e ; theme3 ->  ; index -> 4406', '']\n",
      "ERROR:root:['C 2194', 'Régions naturelles et noms de Pays. Etude sur la région parisienne', 'Gallois (Louis)', ' 1908', ' librairie Armand Colin (Paris)', 'achat 08.08', 'Gallois (Louis), 1908, Régions naturelles et noms de Pays. Etude sur la région parisienne, Paris, librairie Armand Colin, 1908, 356 p. C 2194', '', ' Méthodologie histoire  Beauce ', '', 'description -> Gallois (Louis), 1908, Régions naturelles et noms de Pays. Etude sur la région parisienne, Paris, librairie Armand Colin, 1908, 356 p. C 2194 ; cote -> C 2194 ; nb_supp ->  ; annee -> 2008 ; provenance -> achat 08.08 ; theme1 -> Méthodologie histoire ; theme2 -> Beauce ; theme3 ->  ; index -> 3453', '']\n",
      "ERROR:root:['C 3179', 'Prière', 'Johnson (Penelope)', ' éd. du Cherche-Lune', \" Vendôme (patronage et pouvoir. L'abbaye de la Trinité de Vendôme 1032-1187)\", 'achat 10.14', \"Johnson (Penelope), Prière, patronage et pouvoir. L'abbaye de la Trinité de Vendôme 1032-1187, Vendôme, éd. du Cherche-Lune, 255 p., C 3179\", '', ' Vendômois  Vendôme  abbaye ', '', \"description -> Johnson (Penelope), Prière, patronage et pouvoir. L'abbaye de la Trinité de Vendôme 1032-1187, Vendôme, éd. du Cherche-Lune, 255 p., C 3179 ; cote -> C 3179 ; nb_supp ->  ; annee -> 2014 ; provenance -> achat 10.14 ; theme1 -> Vendômois ; theme2 -> Vendôme ; theme3 -> abbaye ; index -> 2458\", '']\n",
      "ERROR:root:['D 0251-ATTENTION', 'Un jardinier du jardin de la France', 'Fort (Paul)', '1943', 'Flammarion (Paris)', '', 'Fort (Paul), Un jardinier du jardin de la France, Paris, Flammarion, 1943, 339 p. D 251', '', 'manquant dans cette ligne', 'manquant dans cette ligne', 'description -> Fort (Paul), Un jardinier du jardin de la France, Paris, Flammarion, 1943, 339 p. D 251 ; cote -> D 251 ; nb_supp ->  ; annee ->  ; provenance ->  ; theme1 -> Touraine ; theme2 -> jardins ; theme3 ->  ; index -> 6435', '']\n",
      "ERROR:root:['FAP 0060', \"Traduction libre d'Amadis de Gaule\", 'Treff (comte de)', ' 1779', ' chez Pissot (par M. le Comte de Treff . Amsterdam et Paris)', '', \"Treff (comte de), Traduction libre d'Amadis de Gaule, par M. le Comte de Treff . Amsterdam et Paris, chez Pissot, 1779,  2 vol. , t.1, 470 p., t.2, 624 p.  FAP 60 \", '', '', '', \"description -> Treff (comte de), Traduction libre d'Amadis de Gaule, par M. le Comte de Treff . Amsterdam et Paris, chez Pissot, 1779,  2 vol. , t.1, 470 p., t.2, 624 p.  FAP 60  ; cote -> FAP 60 ; nb_supp ->  ; annee ->  ; provenance ->  ; theme1 ->  ; theme2 ->  ; theme3 ->  ; index -> 14845\", '']\n"
     ]
    },
    {
     "data": {
      "text/plain": "'.\\\\books-catalogue-exporte-hamelain-3.xlsx'"
     },
     "execution_count": 6,
     "metadata": {},
     "output_type": "execute_result"
    }
   ],
   "source": [
    "ExportCatalogueManager.export_hamelain_3(\".\", imported_books, \"books-\")"
   ],
   "metadata": {
    "collapsed": false
   }
  },
  {
   "cell_type": "code",
   "execution_count": 7,
   "outputs": [
    {
     "name": "stderr",
     "output_type": "stream",
     "text": [
      "ERROR:root:['-ATTENTION', '\"Un grand patron philanthrope : Alfred Mame (1811-1893)', 'Laurencin (Michel)', ' 2009', ' Revue Akadémos(manquant dans cette ligne)', 'manquant dans cette ligne', 'manquant dans cette ligne', 'manquant dans cette ligne', ' Tours  Mame ', '', 'manquant dans cette ligne', 'manquant dans cette ligne']\n",
      "ERROR:root:['BBH 0439/18', 'Le Lude', 'Oury (Dom Guy-Marie)', ' s. l.', ' le château et les environs (la ville)', '', 'Oury (Dom Guy-Marie), Le Lude, la ville, le château et les environs, s. l., s. n., s. d., [1970], 48 p., BBH 439/18', '', ' Anjou ', '', 'description -> Oury (Dom Guy-Marie), Le Lude, la ville, le château et les environs, s. l., s. n., s. d., [1970], 48 p., BBH 439/18 ; cote -> BBH 439/18 ; nb_supp ->  ; annee ->  ; provenance ->  ; theme1 -> Anjou ; theme2 ->  ; theme3 ->  ; index -> 13095', '']\n",
      "ERROR:root:['BBH 1416/57', \"L'église de Tours : L'ancienne paroisse de Saint-Saturnin\", '[collectif] (-)', '  Paris', ' Documents et manuscrits (les Carmes et les bénédictins de Saint-Julien (1303-1790))', '', \"[Anonyme], L'église de Tours : L'ancienne paroisse de Saint-Saturnin, les Carmes et les bénédictins de Saint-Julien (1303-1790), Documents et manuscrits,  Paris,1897, 32 p., BBH 1416/57\", '', ' Tours  religion MA ', '', \"description -> [Anonyme], L'église de Tours : L'ancienne paroisse de Saint-Saturnin, les Carmes et les bénédictins de Saint-Julien (1303-1790), Documents et manuscrits,  Paris,1897, 32 p., BBH 1416/57 ; cote -> BBH 1416/57 ; nb_supp ->  ; annee ->  ; provenance ->  ; theme1 -> Tours ; theme2 -> religion MA ; theme3 ->  ; index -> 12107\", '']\n",
      "ERROR:root:['BBH 2399/94', 'La crypte de Jouarre', 'Thibeau (abbé Pierre)', ' 1950', ' Imprimerie Montligeon (La Chapelle-Montligeon)', 'Legs Henri Martin', 'Thibeau (abbé Pierre), La crypte de Jouarre, La Chapelle-Montligeon, Imprimerie Montligeon, 1950, 47 p. BBH 2399/94', '', ' Architecture  religion ', '', 'description -> Thibeau (abbé Pierre), La crypte de Jouarre, La Chapelle-Montligeon, Imprimerie Montligeon, 1950, 47 p. BBH 2399/94 ; cote -> BBH 2399/94 ; nb_supp ->  ; annee -> 2007 ; provenance -> Legs Henri Martin ; theme1 -> Architecture ; theme2 -> religion ; theme3 ->  ; index -> 11116', '']\n",
      "ERROR:root:['BBH 3400/123', 'Jean-Paul II à Tours', '[collectif] (-)', ' s. d. [1986]', ' s. n. [Diocèse] (s. l. [Tours])', 'don Schweitz', '[Anonyme], Jean-Paul II à Tours, s. l. [Tours], s. n. [Diocèse], s. d. [1986], 20 p., BBH 3400/123', '', ' Tours  religion ', '', 'description -> [Anonyme], Jean-Paul II à Tours, s. l. [Tours], s. n. [Diocèse], s. d. [1986], 20 p., BBH 3400/123 ; cote -> BBH 3400/123 ; nb_supp ->  ; annee -> 2011 ; provenance -> don Schweitz ; theme1 -> Tours ; theme2 -> religion ; theme3 ->  ; index -> 10115', '']\n",
      "ERROR:root:['BBH 4392/150', 'Chapelle Notre-Dame du Sacré-Cœur', '[collectif] (-)', ' Mosaïc Patrimoine éd.', ' Fréteval (patrimoine culturel du XIXe siècle)', 'achat 03.15', '[Collectif],   Chapelle Notre-Dame du Sacré-Cœur, patrimoine culturel du XIXe siècle, Fréteval, Mosaïc Patrimoine éd., 2011, 70 p., BBH  4392/150', '', ' Vendômois  chapelle 19e  Lobin ', '', 'description -> [Collectif],   Chapelle Notre-Dame du Sacré-Cœur, patrimoine culturel du XIXe siècle, Fréteval, Mosaïc Patrimoine éd., 2011, 70 p., BBH  4392/150 ; cote -> BBH 4392/150 ; nb_supp ->  ; annee -> 2015 ; provenance -> achat 03.15 ; theme1 -> Vendômois ; theme2 -> chapelle 19e ; theme3 -> Lobin ; index -> 9123', '']\n",
      "ERROR:root:['BBH 5537/178', '21-27 août 1944', '[collectif] (-), Comment Chambord fut sauvé par son curé (deuxième édition)', ' 1950', ' impr.R. Sille (Blois)', 'don LEVEEL Pierre', '[Collectif], Comment Chambord fut sauvé par son curé (deuxième édition) : la semaine tragique, 21-27 août 1944, Blois, impr.R. Sille, 1950, 56 p., BBH 5537/178', '', ' Loir-et-Cher  Chambord ', '', 'description -> [Collectif], Comment Chambord fut sauvé par son curé (deuxième édition) : la semaine tragique, 21-27 août 1944, Blois, impr.R. Sille, 1950, 56 p., BBH 5537/178 ; cote -> BBH 5537/178 ; nb_supp ->  ; annee -> 2018 ; provenance -> don Leveel ; theme1 -> Loir-et-Cher ; theme2 -> Chambord ; theme3 ->  ; index -> 7968', '']\n",
      "ERROR:root:['BBH 6514/208', \"Le château d'Amboise\", '[collectif] (-)', ' 1997', ' Valoire Ed. (La Chaussée-St-Victor)', '', \"[collectif], Le château d'Amboise, La Chaussée-St-Victor, Valoire Ed., 1997, n.p., BBH 6514/208\", '', '', '', \"description -> [collectif], Le château d'Amboise, La Chaussée-St-Victor, Valoire Ed., 1997, n.p., BBH 6514/208 ; cote -> BBH 6514/208 ; nb_supp ->  ; annee -> 2020 ; provenance ->  ; theme1 ->  ; theme2 ->  ; theme3 ->  ; index -> 6991\", '']\n",
      "ERROR:root:['TAB-ATTENTION', 'Table 75.93 Annales', '', ' 1994 à 1998', ' sciences sociales(manquant dans cette ligne)', 'manquant dans cette ligne', 'manquant dans cette ligne', 'manquant dans cette ligne', ' Table revue ', '', 'manquant dans cette ligne', 'manquant dans cette ligne']\n"
     ]
    },
    {
     "data": {
      "text/plain": "'.\\\\no-books-catalogue-exporte-hamelain-3.xlsx'"
     },
     "execution_count": 7,
     "metadata": {},
     "output_type": "execute_result"
    }
   ],
   "source": [
    "ExportCatalogueManager.export_hamelain_3(\".\", imported_no_books, \"no-books-\")"
   ],
   "metadata": {
    "collapsed": false
   }
  }
 ],
 "metadata": {
  "kernelspec": {
   "display_name": "Python 3",
   "language": "python",
   "name": "python3"
  },
  "language_info": {
   "codemirror_mode": {
    "name": "ipython",
    "version": 2
   },
   "file_extension": ".py",
   "mimetype": "text/x-python",
   "name": "python",
   "nbconvert_exporter": "python",
   "pygments_lexer": "ipython2",
   "version": "2.7.6"
  }
 },
 "nbformat": 4,
 "nbformat_minor": 0
}
