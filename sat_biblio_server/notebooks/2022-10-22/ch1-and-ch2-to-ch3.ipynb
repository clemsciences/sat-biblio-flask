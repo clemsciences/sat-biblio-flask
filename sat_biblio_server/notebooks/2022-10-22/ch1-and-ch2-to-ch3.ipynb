{
 "cells": [
  {
   "cell_type": "code",
   "execution_count": 1,
   "id": "492e8a80",
   "metadata": {},
   "outputs": [],
   "source": [
    "from managers.catalogue_manager import CatalogueConverter\n",
    "from managers.export_manager import ExportCatalogueManager\n",
    "from sat_biblio_server.managers.import_manager import ImportManager"
   ]
  },
  {
   "cell_type": "code",
   "execution_count": 2,
   "outputs": [
    {
     "data": {
      "text/plain": "'C:\\\\Users\\\\clems\\\\PycharmProjects\\\\sat-biblio-flask\\\\sat_biblio_server\\\\notebooks'"
     },
     "execution_count": 2,
     "metadata": {},
     "output_type": "execute_result"
    }
   ],
   "source": [
    "import os\n",
    "os.getcwd()"
   ],
   "metadata": {
    "collapsed": false
   }
  },
  {
   "cell_type": "code",
   "execution_count": 2,
   "outputs": [],
   "source": [],
   "metadata": {
    "collapsed": false
   }
  },
  {
   "cell_type": "code",
   "execution_count": 3,
   "outputs": [],
   "source": [
    "ch1_filename = \"catalogue-exporte-hamelain-1.xlsx\"\n",
    "ch2_filename = \"22 10 15 Mon travail sur inventaire BESNIER Clément.xlsx\""
   ],
   "metadata": {
    "collapsed": false
   }
  },
  {
   "cell_type": "code",
   "execution_count": 4,
   "outputs": [
    {
     "name": "stderr",
     "output_type": "stream",
     "text": [
      "c:\\users\\clems\\pycharmprojects\\sat-biblio-flask\\venv\\lib\\site-packages\\openpyxl\\worksheet\\_reader.py:312: UserWarning: Unknown extension is not supported and will be removed\n",
      "  warn(msg)\n"
     ]
    }
   ],
   "source": [
    "ch1 = ImportManager.import_hamelain_1(ch1_filename, 1)\n",
    "ch2 = ImportManager.import_hamelain_2(ch2_filename, 2)"
   ],
   "metadata": {
    "collapsed": false
   }
  },
  {
   "cell_type": "code",
   "execution_count": 5,
   "outputs": [],
   "source": [
    "# cotes_unsimilar = set(ch1.keys()).difference(set(ch2.keys()))"
   ],
   "metadata": {
    "collapsed": false
   }
  },
  {
   "cell_type": "code",
   "execution_count": 6,
   "outputs": [],
   "source": [
    "# list(cotes_unsimilar)[:10]"
   ],
   "metadata": {
    "collapsed": false
   }
  },
  {
   "cell_type": "code",
   "execution_count": 7,
   "outputs": [],
   "source": [
    "# len(cotes_unsimilar)"
   ],
   "metadata": {
    "collapsed": false
   }
  },
  {
   "cell_type": "code",
   "execution_count": 8,
   "outputs": [],
   "source": [
    "# for i in sorted(list(cotes_unsimilar)):\n",
    "#     print(i)"
   ],
   "metadata": {
    "collapsed": false
   }
  },
  {
   "cell_type": "code",
   "execution_count": 9,
   "outputs": [],
   "source": [
    "# for i in sorted(list(set(ch2.keys()).difference(set(ch1.keys())))):\n",
    "#     print(i)"
   ],
   "metadata": {
    "collapsed": false
   }
  },
  {
   "cell_type": "code",
   "execution_count": 10,
   "outputs": [],
   "source": [
    "# common_cotes = set(ch1.keys()).intersection(ch2.keys())"
   ],
   "metadata": {
    "collapsed": false
   }
  },
  {
   "cell_type": "code",
   "execution_count": 11,
   "outputs": [],
   "source": [
    "# len(common_cotes)"
   ],
   "metadata": {
    "collapsed": false
   }
  },
  {
   "cell_type": "code",
   "execution_count": 12,
   "outputs": [],
   "source": [
    "# sorted_cotes = sorted(list(common_cotes))"
   ],
   "metadata": {
    "collapsed": false
   }
  },
  {
   "cell_type": "code",
   "execution_count": 12,
   "outputs": [],
   "source": [],
   "metadata": {
    "collapsed": false
   }
  },
  {
   "cell_type": "code",
   "execution_count": 13,
   "outputs": [],
   "source": [
    "# for normlized_cote in sorted_cotes:\n",
    "#     print(normlized_cote)"
   ],
   "metadata": {
    "collapsed": false
   }
  },
  {
   "cell_type": "code",
   "execution_count": 14,
   "outputs": [
    {
     "name": "stdout",
     "output_type": "stream",
     "text": [
      "14408 13123\n",
      "oohhh\n",
      "oohhh\n",
      "oohhh\n"
     ]
    }
   ],
   "source": [
    "ch3 = CatalogueConverter.from_h1_and_h2_to_h3(ch1, ch2)"
   ],
   "metadata": {
    "collapsed": false
   }
  },
  {
   "cell_type": "code",
   "execution_count": 16,
   "outputs": [
    {
     "name": "stderr",
     "output_type": "stream",
     "text": [
      "ERROR:root:['A 0002', 'Atlas de la Bible', 'Grollenberg (Luc H.)', ' 1955', ' Elsevier (Paris-Bruxelles)', '', 'Grollenberg (Luc H.), 1955, Atlas de la Bible, Paris-Bruxelles, Elsevier, 1955, 161 p. A 2 ', '', ' histoire  Bible ', ' Transféré sur inventaire forme 2022 ', 'description -> Grollenberg (Luc H.), 1955, Atlas de la Bible, Paris-Bruxelles, Elsevier, 1955, 161 p. A 2  ; cote -> A 2  ; nb_supp ->  ; annee ->  ; provenance ->  ; theme1 -> histoire ; theme2 -> Bible ; theme3 ->  ; index -> 93', '']\n",
      "ERROR:root:['B 1048', 'Avon-les-Roches : la Roche Berlan (Indre-et-Loire). Diagnostic archéologique', 'Laruaz (Jean-Marie)', \" Service de l'archéologie du département d'Indre-et-Loire\", ' Tours (décembre 2010)', 'don SADIL', \"Laruaz (Jean-Marie), Avon-les-Roches : la Roche Berlan (Indre-et-Loire). Diagnostic archéologique, décembre 2010, Tours, Service de l'archéologie du département d'Indre-et-Loire, 82 p., B 1048\", '', ' Touraine  Avon-les-Roches ', '', \"description -> Laruaz (Jean-Marie), Avon-les-Roches : la Roche Berlan (Indre-et-Loire). Diagnostic archéologique, décembre 2010, Tours, Service de l'archéologie du département d'Indre-et-Loire, 82 p., B 1048 ; cote -> B 1048 ; nb_supp ->  ; annee -> 2012 ; provenance -> don SADIL ; theme1 -> Touraine ; theme2 -> Avon-les-Roches ; theme3 ->  ; index -> 684\", '']\n",
      "ERROR:root:['BBH 0025/1', 'Les fresques romanes de Ligugé et leur rôle dans la chronique locale', 'Coquet (Dom Jean)', ' 1958', ' Société des Amis du Vieux Ligugé (s. l.)', '', 'Coquet (Dom Jean), Les fresques romanes de Ligugé et leur rôle dans la chronique locale, s. l., Société des Amis du Vieux Ligugé, 1958, n. p., extr. Revue Mabillon, 194, 1958,  BBH 25/1', '', ' architecture  peinture ', '', 'description -> Coquet (Dom Jean), Les fresques romanes de Ligugé et leur rôle dans la chronique locale, s. l., Société des Amis du Vieux Ligugé, 1958, n. p., extr. Revue Mabillon, 194, 1958,  BBH 25/1 ; cote -> BBH 25/1 ; nb_supp ->  ; annee ->  ; provenance ->  ; theme1 -> architecture ; theme2 -> peinture ; theme3 ->  ; index -> 13513', '']\n",
      "ERROR:root:['BBH 1075BIS/43', 'Rigny-Ussé', 'Thomas (F.)', ' 1993', \" 1993 (2. La population entre 1670 et 1856 d'après les registres paroissiaux et l'état civil)\", 'achat 03.07', \"Thomas (F.), 1993, Rigny-Ussé, 2. La population entre 1670 et 1856 d'après les registres paroissiaux et l'état civil, 1993,  48 p. B 708\", '', ' Touraine  Riigny-Ussé ', '', \"description -> Thomas (F.), 1993, Rigny-Ussé, 2. La population entre 1670 et 1856 d'après les registres paroissiaux et l'état civil, 1993,  48 p. B 708 ; cote -> BBH 1075bis/43 ; nb_supp ->  ; annee -> 2007 ; provenance -> achat 03.07 ; theme1 -> Touraine ; theme2 -> Riigny-Ussé ; theme3 ->  ; index -> 12448\", '']\n",
      "ERROR:root:['BBH 2143/86', \"L'enceinte fortifiée de Beaulieu-lès-Loches\", 'Montoux (André)', ' Loches', ' communication présentée à la SAT (1960)', '', \"Montoux (André), L'enceinte fortifiée de Beaulieu-lès-Loches,1960, communication présentée à la SAT, Loches, Le Réveil Lochois, 7 p., ill., BBH 2143/86\", '', ' Touraine  Beaulieu-lès-Loches ', '', \"description -> Montoux (André), L'enceinte fortifiée de Beaulieu-lès-Loches,1960, communication présentée à la SAT, Loches, Le Réveil Lochois, 7 p., ill., BBH 2143/86 ; cote -> BBH 2143/86 ; nb_supp ->  ; annee ->  ; provenance ->  ; theme1 -> Touraine ; theme2 -> Beaulieu-lès-Loches ; theme3 ->  ; index -> 11372\", '']\n",
      "ERROR:root:['BBH 3205/117', '\"Les fonds patrimoniaux des sociétés savantes : conservation', '[collectif] (-)', ' Bulletin de liaison des sociétés savantes', ' inventaire\" (préservation)', 'don Schweitz ', '[Collectif], \"Les fonds patrimoniaux des sociétés savantes : conservation, préservation, inventaire\", Bulletin de liaison des sociétés savantes, mars, 2006, 32 p. BBH 3205/117', '', ' histoire  société savante ', '', 'description -> [Collectif], \"Les fonds patrimoniaux des sociétés savantes : conservation, préservation, inventaire\", Bulletin de liaison des sociétés savantes, mars, 2006, 32 p. BBH 3205/117 ; cote -> BBH 3205/117 ; nb_supp ->  ; annee -> 2010 ; provenance -> don Schweitz  ; theme1 -> histoire ; theme2 -> société savante ; theme3 ->  ; index -> 10310', '']\n",
      "ERROR:root:['BBH 4262/148', 'Bléré au cours des siècles', 'Berbier (M. Mme Marcel)', ' 1979', ' Imprimerie centrale de Touraine (Tours)', 'achat 09.15', 'Berbier (M. Mme Marcel), Bléré au cours des siècles, Tours, Imprimerie centrale de Touraine, 1979, 71 p., BBH 4262/147', '', ' Touraine  Bléré ', '', 'description -> Berbier (M. Mme Marcel), Bléré au cours des siècles, Tours, Imprimerie centrale de Touraine, 1979, 71 p., BBH 4262/147 ; cote -> BBH 4262/148 ; nb_supp ->  ; annee -> 2014 ; provenance -> achat 09.15 ; theme1 -> Touraine ; theme2 -> Bléré ; theme3 ->  ; index -> 9252', '']\n",
      "ERROR:root:['BBH 5523/177', 'Yzeures-sur-Creuse. La vie religieuse à travers les âges', 'Pontonnier (Jean)', ' 2006', \" l'auteur (Tours)\", 'don Leveel', \"Pontonnier (Jean), Yzeures-sur-Creuse. La vie religieuse à travers les âges,Tours, l'auteur, 2006, 98 p., ronéo,  BBH 5523/177\", '', ' Touraine  Yzeures-sur-Creuse ', '', \"description -> Pontonnier (Jean), Yzeures-sur-Creuse. La vie religieuse à travers les âges,Tours, l'auteur, 2006, 98 p., ronéo,  BBH 5523/177 ; cote -> BBH 5523/177 ; nb_supp ->  ; annee -> 2018 ; provenance -> don Leveel ; theme1 -> Touraine ; theme2 -> Yzeures-sur-Creuse ; theme3 ->  ; index -> 7983\", '']\n",
      "ERROR:root:['BBH5764/185', \"J.K Huymans et l'abbé Mungnier à Saint-Thomas d'Aquin\", 'Bertault (Philippe)', ' éd Durtal', ' Paris (1891-1951)', 'don Leveel', \"Bertault (Philippe), J.K Huymans et l'abbé Mungnier à Saint-Thomas d'Aquin, 1891-1951, Paris, éd Durtal, Bull Paroissial de Saint Thomas d'Aquin, n.d, 8 p, BBH 5764/185\", '', '', '', \"description -> Bertault (Philippe), J.K Huymans et l'abbé Mungnier à Saint-Thomas d'Aquin, 1891-1951, Paris, éd Durtal, Bull Paroissial de Saint Thomas d'Aquin, n.d, 8 p, BBH 5764/185 ; cote -> BBH5764/185 ; nb_supp ->  ; annee -> 2018 ; provenance -> don Leveel ; theme1 ->  ; theme2 ->  ; theme3 ->  ; index -> 7742\", '']\n",
      "ERROR:root:['C 0852', 'Les sociétés rurales', 'Brisebarre (Jean-Jacques)', ' 1975', ' La Roue à Livres (Chatillon-sur-Seine (21))', '', 'Brisebarre (Jean-Jacques), Les sociétés rurales, Chatillon-sur-Seine (21), La Roue à Livres, 1975, 104 p. C 852', '', ' histoire  société rurale  paysans ', '', 'description -> Brisebarre (Jean-Jacques), Les sociétés rurales, Chatillon-sur-Seine (21), La Roue à Livres, 1975, 104 p. C 852 ; cote -> C 852 ; nb_supp ->  ; annee ->  ; provenance ->  ; theme1 -> histoire ; theme2 -> société rurale ; theme3 -> paysans ; index -> 4735', '']\n",
      "ERROR:root:['C 1940', \"L'art gothique\", 'Salet (Francis)', ' 1963', ' PUF (Paris)', 'Legs Henri Martin', \"Salet (Francis), 1963, L'art gothique, Paris, PUF, 1963, 186 p. C 1940\", '', ' Histoire Art  MA ', '', \"description -> Salet (Francis), 1963, L'art gothique, Paris, PUF, 1963, 186 p. C 1940 ; cote -> C 1940 ; nb_supp ->  ; annee -> 2007 ; provenance -> Legs Henri Martin ; theme1 -> Histoire Art ; theme2 -> MA ; theme3 ->  ; index -> 3707\", '']\n",
      "ERROR:root:['C 3034', 'Martin de Tours', 'Pernoud (Régine)', ' Bayard éd.', ' Paris (Rencontre)', 'don Ferragu', 'Pernoud (Régine), Martin de Tours, Rencontre, Paris, Bayard éd., 1996, 182 p. C 3034', '', ' saint Martin  culte ', '', 'description -> Pernoud (Régine), Martin de Tours, Rencontre, Paris, Bayard éd., 1996, 182 p. C 3034 ; cote -> C 3034 ; nb_supp ->  ; annee -> 2014 ; provenance -> don Ferragu ; theme1 -> saint Martin ; theme2 -> culte ; theme3 ->  ; index -> 2603', '']\n",
      "ERROR:root:['D 0119', '1848 et la Seconde République', 'Bertaut (Jules)', ' 450 p. D 119', ' 1948 (Paris)', '', 'Bertaut (Jules), 1848 et la Seconde République, Paris, 1948, 450 p. D 119', '', ' Histoire  France 1848 ', '', 'description -> Bertaut (Jules), 1848 et la Seconde République, Paris, 1948, 450 p. D 119 ; cote -> D 119 ; nb_supp ->  ; annee ->  ; provenance ->  ; theme1 -> Histoire ; theme2 -> France 1848 ; theme3 ->  ; index -> 6558', '']\n",
      "ERROR:root:['GHBR 0037', 'Armorial de la Maintenance héraldique de France', 'Morche (Dominique)', ' Tours', ' décembre 1991 - janvier 1992 (n° 16)', '', \"Morche (Dominique), Armorial de la Maintenance héraldique de France, n° 16, décembre 1991 - janvier 1992, Tours, l'auteur, 1992,  92 p. GHbr 37\", '', ' héraldique ', '', \"description -> Morche (Dominique), Armorial de la Maintenance héraldique de France, n° 16, décembre 1991 - janvier 1992, Tours, l'auteur, 1992,  92 p. GHbr 37 ; cote -> GHbr 37 ; nb_supp ->  ; annee ->  ; provenance ->  ; theme1 -> héraldique ; theme2 ->  ; theme3 ->  ; index -> 13666\", '']\n",
      "ERROR:root:['BBH 2025/81-ATTENTION', 'Conseil Général', '', ' Tours', ' je me souviens : Gizeux(manquant dans cette ligne)', 'manquant dans cette ligne', 'manquant dans cette ligne', 'manquant dans cette ligne', ' Touraine  Gizeux ', '', 'manquant dans cette ligne', 'manquant dans cette ligne']\n",
      "ERROR:root:['GHBR 0032 1 - 2 - 3-ATTENTION', 'Les Pages de la Grande Ecurie', 'Bluche (François)', \" aux dépens de l'auteur\", ' Les cahiers nobles(manquant dans cette ligne)', 'manquant dans cette ligne', 'manquant dans cette ligne', 'manquant dans cette ligne', ' noblesse ', '', 'manquant dans cette ligne', 'manquant dans cette ligne']\n"
     ]
    },
    {
     "data": {
      "text/plain": "'.\\\\catalogue-exporte-hamelain-3.xlsx'"
     },
     "execution_count": 16,
     "metadata": {},
     "output_type": "execute_result"
    }
   ],
   "source": [
    "ExportCatalogueManager.export_hamelain_3(\".\", ch3)"
   ],
   "metadata": {
    "collapsed": false
   }
  },
  {
   "cell_type": "code",
   "execution_count": null,
   "outputs": [],
   "source": [],
   "metadata": {
    "collapsed": false
   }
  }
 ],
 "metadata": {
  "kernelspec": {
   "display_name": "Python 3 (ipykernel)",
   "language": "python",
   "name": "python3"
  },
  "language_info": {
   "codemirror_mode": {
    "name": "ipython",
    "version": 3
   },
   "file_extension": ".py",
   "mimetype": "text/x-python",
   "name": "python",
   "nbconvert_exporter": "python",
   "pygments_lexer": "ipython3",
   "version": "3.8.5"
  }
 },
 "nbformat": 4,
 "nbformat_minor": 5
}
