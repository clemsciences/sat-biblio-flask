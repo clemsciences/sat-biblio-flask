{
 "cells": [
  {
   "cell_type": "code",
   "execution_count": 2,
   "metadata": {
    "collapsed": true
   },
   "outputs": [],
   "source": [
    "import codecs\n",
    "import os\n",
    "\n",
    "from lxml import etree"
   ]
  },
  {
   "cell_type": "code",
   "execution_count": 3,
   "outputs": [],
   "source": [
    "DIRECTORY = r\"C:\\Users\\clems\\Documents\\SAT - archéologie\\SAT-BIBLIO\\bulletins\""
   ],
   "metadata": {
    "collapsed": false
   }
  },
  {
   "cell_type": "code",
   "execution_count": 4,
   "outputs": [],
   "source": [
    "directories_by_year = os.listdir(DIRECTORY)"
   ],
   "metadata": {
    "collapsed": false
   }
  },
  {
   "cell_type": "code",
   "execution_count": 5,
   "outputs": [
    {
     "data": {
      "text/plain": "'<!DOCTYPE html><html'"
     },
     "execution_count": 5,
     "metadata": {},
     "output_type": "execute_result"
    }
   ],
   "source": [
    "def read_bulletin(year: str):\n",
    "    path_to_year = os.path.join(DIRECTORY, year)\n",
    "    with codecs.open(os.path.join(path_to_year, os.listdir(path_to_year)[0]), \"r\", encoding=\"utf-8\") as f:\n",
    "        return f.read()\n",
    "bulletin_1994 = read_bulletin(\"1994\")\n",
    "len(bulletin_1994)\n",
    "bulletin_1994[:20]"
   ],
   "metadata": {
    "collapsed": false
   }
  },
  {
   "cell_type": "code",
   "execution_count": 6,
   "outputs": [],
   "source": [
    "\n"
   ],
   "metadata": {
    "collapsed": false
   }
  },
  {
   "cell_type": "code",
   "execution_count": 20,
   "outputs": [],
   "source": [
    "def extract_pages(year: str):\n",
    "    bulletin = read_bulletin(year)\n",
    "    parser = etree.HTMLParser(no_network=False, encoding=\"utf-8\")\n",
    "    root = etree.fromstring(bulletin, parser=parser)\n",
    "    description = []\n",
    "    pages = []\n",
    "    for node1 in root:\n",
    "        if node1.tag == \"body\":\n",
    "            page = []\n",
    "            first_part = True\n",
    "            for i, n2 in enumerate(node1):\n",
    "                # print(n2.tag)\n",
    "                if first_part:\n",
    "                    first_part = n2.tag != \"hr\"\n",
    "                    description.append(n2.text)\n",
    "                else:\n",
    "                    if n2.tag == \"hr\":\n",
    "                        pages.append(page)\n",
    "                        page = []\n",
    "                    else:\n",
    "                        page.append(n2.text)\n",
    "    return description, pages"
   ],
   "metadata": {
    "collapsed": false
   }
  },
  {
   "cell_type": "code",
   "execution_count": 21,
   "outputs": [
    {
     "data": {
      "text/plain": "332"
     },
     "execution_count": 21,
     "metadata": {},
     "output_type": "execute_result"
    }
   ],
   "source": [
    "description, pages = extract_pages(\"1994\")\n",
    "len(pages)"
   ],
   "metadata": {
    "collapsed": false
   }
  },
  {
   "cell_type": "code",
   "execution_count": 23,
   "outputs": [
    {
     "data": {
      "text/plain": "['BULLETIN DE LA ',\n 'SOCIÉTÉ ARCHÉOLOGIQUE ',\n 'DE TOURAINE ',\n 'T. XLIV - Année 1994 ',\n 'Liste des membres de la Société 5 Procès-verbaux des séances 31 Les potins à la tête diabolique par Melle Florence BARTHÉLÉMY 75 Site antique à Ambillou par M. Charles LELONG 89 Découverte archéologique à Saint-Cyr-sur-Loire par M. Pierre MESTAT 91 Découverte d\\'importants dépôts de tessons dans le lit de la Loire à Saint-Cyr-sur-Loire (basses eaux de la Loire, de 1982 à 1985) par M. Christian LHERMITE 101 Quelques remarques à propos de la toponymie chinonaise dans le \"Gargantua \"par M. Stéphane GENDRON 109 L\\'abbaye bénédictine Saint-Paul de Cormery (Indre-et-Loire) par Mme Valérie MAURET-CRIBELLIER 119 L\\'ancienne église Saint-Ours de Loches par M. le Docteur François BOBIN 145 Remarques sur les peintures de la crypte de Tavant par M. Henri MARTIN 169 Une séduisante hypothèse : le sculpteur Gilabertus (XIV siècle) à Toulouse, Moissac. et Preuilly ? par M. Roger LEZEAU 177 Sain t-Sa uveur-lès- Tours : l\\'ancien prieuré, le quartier, le pont par M. Pierre LEVEEL. 189 Beauvais à Azay-sur-Cher par t M. André MONTOUX 203 De quelques œuvres mobilières issues du milieu artistique tourangeau par M. Guy DU CHAZAUD 221 L\\'incendie du prieuré de Neuillé-le-Lierre en 1706 par M. Gérard TROUPEAU. 233 L\\'attentat de Damiens : suites judiciaires en Touraine par M. Jean-André TOURNERIE 243 Le vitrail de Saint-Étienne-de-Chigny et son donateur, Jean Binet par M. François DELOOZ 259 Essai sur les monnaies de nécessité tourangelles par M. Philippe SCHIESSER 271 Maurice Javillier, pharmacien, membre de l\\'Institut, dont la carrière universitaire commença à Tours au début de ce siècle par MM. Claude VIEL et Christophe CLARTE 285 Yvonne et Pierre Bréchat à Neuilly-le-Brignon, pendant les \"années noires\" par M. le Docteur Jack VIVIER. 301 André Rousse par M. le Docteur Jack VIVIER. 311 Bibliographie tourangelle (1994) par M. Pierre AUDIN 321 ',\n \"SOCIÉTÉ ARCHÉOLOGIQUE DE TOURAINE Musée de l'Hôtel Goüin, 25 rue du Commerce TOURS \",\n 'MCMXCV ']"
     },
     "execution_count": 23,
     "metadata": {},
     "output_type": "execute_result"
    }
   ],
   "source": [
    "pages[0]"
   ],
   "metadata": {
    "collapsed": false
   }
  }
 ],
 "metadata": {
  "kernelspec": {
   "display_name": "Python 3",
   "language": "python",
   "name": "python3"
  },
  "language_info": {
   "codemirror_mode": {
    "name": "ipython",
    "version": 2
   },
   "file_extension": ".py",
   "mimetype": "text/x-python",
   "name": "python",
   "nbconvert_exporter": "python",
   "pygments_lexer": "ipython2",
   "version": "2.7.6"
  }
 },
 "nbformat": 4,
 "nbformat_minor": 0
}
