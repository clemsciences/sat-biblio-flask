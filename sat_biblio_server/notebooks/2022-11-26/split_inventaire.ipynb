{
 "cells": [
  {
   "cell_type": "code",
   "execution_count": 1,
   "metadata": {
    "collapsed": true
   },
   "outputs": [],
   "source": [
    "from sat_biblio_server.managers.catalogue_manager import CatalogueConverter, CatalogueHamelain3\n",
    "from sat_biblio_server.managers.export_manager import ExportCatalogueManager\n",
    "from sat_biblio_server.managers.import_manager import ImportManager"
   ]
  },
  {
   "cell_type": "code",
   "execution_count": 2,
   "outputs": [],
   "source": [
    "filename = \"2022-11-12-inventaire-livres-flc.xlsx\"\n",
    "\n",
    "catalogue = ImportManager.import_hamelain_3(filename, ignore_n_first_lines=0)\n"
   ],
   "metadata": {
    "collapsed": false
   }
  },
  {
   "cell_type": "code",
   "execution_count": 3,
   "outputs": [
    {
     "data": {
      "text/plain": "'A 0001-ATTENTION'"
     },
     "execution_count": 3,
     "metadata": {},
     "output_type": "execute_result"
    }
   ],
   "source": [
    "catalogue.rows[0].cote"
   ],
   "metadata": {
    "collapsed": false
   }
  },
  {
   "cell_type": "code",
   "execution_count": 4,
   "outputs": [
    {
     "name": "stdout",
     "output_type": "stream",
     "text": [
      "{'C2268', 'FAG', 'D144-ATTENTION', 'C1744', 'NUM', 'C', 'C1273', 'GHBR', 'GHB', 'C3334', 'C3615', 'C2987', 'C20406', 'C3255', 'INV-ATTENTION', 'FAG1', 'C2914', 'FAP', 'GHD', 'C3028', 'C3062', 'B', 'GHC', 'SL', 'D', 'C1080', 'C2778', 'C2082', 'D0379', 'FA', 'GHA', 'A', 'C2786', 'C3262', 'C3421', 'C837', 'NUMBR', 'FAM', 'C2915'}\n"
     ]
    }
   ],
   "source": [
    "print(set([i.cote.split(\" \")[0] for i in catalogue.rows]))"
   ],
   "metadata": {
    "collapsed": false
   }
  },
  {
   "cell_type": "code",
   "execution_count": 5,
   "outputs": [],
   "source": [
    "cotes = {'GHC': \"GHC\", 'GHBR': \"GHBR\", 'C3421': \"C\", 'INV-ATTENTION': \"INV\", 'C2786': \"C\", 'C2987': \"C\", 'C': \"C\", 'C3334': \"C\", 'C3062': \"C\", 'D': \"D\", 'C1273': \"C\", 'C3028': \"C\", 'GHD': \"GHD\", 'C2914': \"C\", 'C837': \"C\", 'FA': \"FA\", 'FAG1': \"FAG\", 'FAP': \"FAP\", 'D0379': \"D\", 'FAG': \"FAG\", 'SL': \"SL\", 'GHB': \"GHB\", 'NUM': \"NUM\", 'FAM': \"FAM\", 'B': \"B\", 'NUMBR': \"NUMBR\", 'C2778': \"C\", 'C1744': \"C\", 'C2915': \"C\", 'GHA': \"GHA\", 'C2082': \"C\", 'C3262': \"C\", 'A': \"A\", 'C1080': \"C\", 'C20406': \"C\", 'D144-ATTENTION': \"D\", 'C3255': \"C\", 'C3615': \"C\", 'C2268': \"C\"}"
   ],
   "metadata": {
    "collapsed": false
   }
  },
  {
   "cell_type": "code",
   "execution_count": 6,
   "outputs": [
    {
     "data": {
      "text/plain": "7427"
     },
     "execution_count": 6,
     "metadata": {},
     "output_type": "execute_result"
    }
   ],
   "source": [
    "len(catalogue.rows)"
   ],
   "metadata": {
    "collapsed": false
   }
  },
  {
   "cell_type": "code",
   "execution_count": 7,
   "outputs": [
    {
     "name": "stderr",
     "output_type": "stream",
     "text": [
      "ERROR:root:['A 0001-ATTENTION', ' ', '', \" Deux cents châteaux et gentilhommières d'Indre-et-Loire\", ' 1934(manquant dans cette ligne)', 'manquant dans cette ligne', 'manquant dans cette ligne', 'manquant dans cette ligne', ' Touraine  château ', ' Transféré sur inventaire forme 2022 ', 'manquant dans cette ligne', 'manquant dans cette ligne']\n",
      "ERROR:root:['B 0001 1-2-ATTENTION', \"Visions d'Espagne\", 'Aubry (Octave.)', '1927', 'Editions J. Rey (2 t. Grenoble)', '', \"Aubry (Octave.), 1927, Visions d'Espagne, 2 t. Grenoble, Editions J. Rey, B. Arthaud, succ. 1927, tome 1 : 38 p. et  planches de 1 à 26, tome 2 : 13 p. et planches de 27 à 67.  B 1  1-2\", '', 'manquant dans cette ligne', 'manquant dans cette ligne', \"description -> Aubry (Octave.), 1927, Visions d'Espagne, 2 t. Grenoble, Editions J. Rey, B. Arthaud, succ. 1927, tome 1 : 38 p. et  planches de 1 à 26, tome 2 : 13 p. et planches de 27 à 67.  B 1  1-2 ; cote -> B 1 1-2 ; nb_supp ->  ; annee ->  ; provenance ->  ; theme1 -> Espagne ; theme2 -> identité ; theme3 ->  ; index -> 1702\", '']\n",
      "ERROR:root:['B 1006', 'Moulins du cuir et de la Peau. Moulins à tan et à chamoiser en France XIIe-XXe siècle', 'Azéma (Jean-Pierre Henri)', ' 2004', ' Ed. Créer (Nonette)', 'achat 06.12', 'Azéma (Jean-Pierre Henri), Moulins du cuir et de la Peau. Moulins à tan et à chamoiser en France XIIe-XXe siècle, Nonette, Ed. Créer, 2004, 216 p. B 1007', '', ' histoire  industrie  tannerie ', '', 'description -> Azéma (Jean-Pierre Henri), Moulins du cuir et de la Peau. Moulins à tan et à chamoiser en France XIIe-XXe siècle, Nonette, Ed. Créer, 2004, 216 p. B 1007 ; cote -> B 1006 ; nb_supp ->  ; annee -> 2012 ; provenance -> achat 06.12 ; theme1 -> histoire ; theme2 -> industrie ; theme3 -> tannerie ; index -> 726', '']\n",
      "ERROR:root:['C 0002', \"Rapports de l'archiviste d'Indre-et-Loire au préfet 1864-1906 [recueil]\", 'Grandmaison (Ch. et L. de), Delmas (E.)', '', ' (C2)', '', \"Grandmaison (Ch. et L. de), Delmas (E.), Rapports de l'archiviste d'Indre-et-Loire au préfet 1864-1906 [recueil], C2\", '', ' Touraine  archives départementales ', ' Transféré sur inventaire forme 2022 ', \"description -> Grandmaison (Ch. et L. de), Delmas (E.), Rapports de l'archiviste d'Indre-et-Loire au préfet 1864-1906 [recueil], C2 ; cote -> C 2 ; nb_supp ->  ; annee ->  ; provenance ->  ; theme1 -> Touraine ; theme2 -> archives départementales ; theme3 ->  ; index -> 5626\", '']\n",
      "ERROR:root:['C 0963', 'Le peuplement préhistorique', 'Nougier (Louis-René)', ' Privat', ' Toulouse (ses étapes entre Seine et Loire)', '', 'Nougier (Louis-René), Le peuplement préhistorique, ses étapes entre Seine et Loire, Toulouse, Privat, 1950, 156 p. C 963', '', ' Préhistoire  peuplement ', '', 'description -> Nougier (Louis-René), Le peuplement préhistorique, ses étapes entre Seine et Loire, Toulouse, Privat, 1950, 156 p. C 963 ; cote -> C 963 ; nb_supp ->  ; annee ->  ; provenance ->  ; theme1 -> Préhistoire ; theme2 -> peuplement ; theme3 ->  ; index -> 4658', '']\n",
      "ERROR:root:['C 1921', \"Visages de l'Orléanais\", 'Bruley (Edouard), Crozet (René), Sibertin-Blanc (C.)', ' 1951', ' Horizons de France (Paris)', 'Legs Henri Martin', \"Bruley (Edouard), Crozet (René), Sibertin-Blanc ( C.), 1951, Visages de l'Orléanais, Paris, Horizons de France, 1951, 185 p. C 1921\", '', ' Orléanais  identité ', '', \"description -> Bruley (Edouard), Crozet (René), Sibertin-Blanc ( C.), 1951, Visages de l'Orléanais, Paris, Horizons de France, 1951, 185 p. C 1921 ; cote -> C 1921 ; nb_supp ->  ; annee -> 2007 ; provenance -> Legs Henri Martin ; theme1 -> Orléanais ; theme2 -> identité ; theme3 ->  ; index -> 3724\", '']\n",
      "ERROR:root:['C 2902', 'Sites et monuments du Val de Loire', 'Jeanson (Denis)', ' Denis Jeanson éd.', ' Tours (3)', 'don PTT', 'Jeanson (Denis), Sites et monuments du Val de Loire, 3, Tours, Denis Jeanson éd., 1985, 415 p., C 2902', '', ' Touraine  monuments ', '', 'description -> Jeanson (Denis), Sites et monuments du Val de Loire, 3, Tours, Denis Jeanson éd., 1985, 415 p., C 2902 ; cote -> C 2902 ; nb_supp ->  ; annee -> 2013 ; provenance -> don PTT ; theme1 -> Touraine ; theme2 -> monuments ; theme3 ->  ; index -> 2735', '']\n",
      "ERROR:root:['C 3906', 'Un siècle de banlieue parisienne', 'Fourcaut (Annie)', ' 1988', \" L'Harmattan (Paris)\", 'achat', \"Fourcaut (Annie), Un siècle de banlieue parisienne, Paris, L'Harmattan, 1988, 319 p., C 3906\", '', ' domaine social et scientifique  aide à la recherche ', '', \"description -> Fourcaut (Annie), Un siècle de banlieue parisienne, Paris, L'Harmattan, 1988, 319 p., C 3906 ; cote -> C 3906 ; nb_supp ->  ; annee -> 2020 ; provenance -> achat ; theme1 -> domaine social et scientifique ; theme2 -> aide à la recherche ; theme3 ->  ; index -> 1735\", '']\n",
      "ERROR:root:['D 0002-ATTENTION', 'Paluel-Marmont', '', ' SEGEP', ' Paris(manquant dans cette ligne)', 'manquant dans cette ligne', 'manquant dans cette ligne', 'manquant dans cette ligne', ' architecture  église  cloches ', '', 'manquant dans cette ligne', 'Désherbé']\n",
      "ERROR:root:['D 1002', 'Touraine', 'Weyant (Roland)', ' ed Nouvelle République', ' Tours (réveille-toi !)', '', 'Weyant (Roland), Touraine, réveille-toi !, Tours, ed Nouvelle République, 1988, 201 p. D 1002', '', '', '', 'description -> Weyant (Roland), Touraine, réveille-toi !, Tours, ed Nouvelle République, 1988, 201 p. D 1002 ; cote -> D 1002 ; nb_supp ->  ; annee -> 2018 ; provenance ->  ; theme1 ->  ; theme2 ->  ; theme3 ->  ; index -> 5695', '']\n",
      "ERROR:root:['FA FONDS ANCIENS À CLASSER DS A', \"Traité des Monnaies d'or et d'argent qui circulent chez les différents peuples\", 'Bonneville (Pierre-Frédéric)', ' 1806', '  La Harpe imp. Lib. (Paris)', '', \"Bonneville (Pierre-Frédéric), Traité des Monnaies d'or et d'argent qui circulent chez les différents peuples, Paris,  La Harpe imp. Lib., 1806, 250p\", '', '', ' SL uniquement  Exemplaires en surnombre types B-C-D enregistrés sous la même cote au 19-02014 ', \"description -> Bonneville (Pierre-Frédéric), Traité des Monnaies d'or et d'argent qui circulent chez les différents peuples, Paris,  La Harpe imp. Lib., 1806, 250p ; cote -> Fonds anciens à classer ds A ; nb_supp -> SL uniquement ; annee ->  ; provenance ->  ; theme1 ->  ; theme2 ->  ; theme3 ->  ; index -> 15310\", '']\n",
      "ERROR:root:['FAG 0002', 'Traité de la coupe des pierres', 'La Ruë (J.B. de)', ' par J.B. De La Ruë Architecte', \" l'on peut aisément se perfectionner en cette science (où par une méthode facile & abrégée)\", '', \"La Ruë (J.B. de), Traité de la coupe des pierres, où par une méthode facile & abrégée, l'on peut aisément se perfectionner en cette science, par J.B. De La Ruë Architecte, Examiné & approuvé par l'Académie Royale d'Architecture .Paris, Imprimerie royale, 1728, 185 p., planches hors-t.   FAG 2\", '', '', ' Transféré sur nouvel inventaire ', \"description -> La Ruë (J.B. de), Traité de la coupe des pierres, où par une méthode facile & abrégée, l'on peut aisément se perfectionner en cette science, par J.B. De La Ruë Architecte, Examiné & approuvé par l'Académie Royale d'Architecture .Paris, Imprimerie royale, 1728, 185 p., planches hors-t.   FAG 2 ; cote -> FAG 2 ; nb_supp ->  ; annee ->  ; provenance ->  ; theme1 ->  ; theme2 ->  ; theme3 ->  ; index -> 14660\", '']\n",
      "ERROR:root:['FAM 0001', 'Décisions sur les coutumes de Berry . Par Gaspard Thaumas de la Thaumassière', 'Thaumas de la Thomassière (Gaspard)', ' avocat au Parlement . Nouvelle édition augmentée de Notes .Bourges', ' Sieur de Puy-ferrand (Ecuyer)', '', 'Thaumas de la Thomassière (Gaspard), Décisions sur les coutumes de Berry . Par Gaspard Thaumas de la Thaumassière, Ecuyer, Sieur de Puy-ferrand, avocat au Parlement . Nouvelle édition augmentée de Notes .Bourges, Veuve de Jacques Boyer, 1744, 726 + XX pp  [couverture parchemin enluminé du XVe siècle)   FAM 1', '', ' Berry ', '', 'description -> Thaumas de la Thomassière (Gaspard), Décisions sur les coutumes de Berry . Par Gaspard Thaumas de la Thaumassière, Ecuyer, Sieur de Puy-ferrand, avocat au Parlement . Nouvelle édition augmentée de Notes .Bourges, Veuve de Jacques Boyer, 1744, 726 + XX pp  [couverture parchemin enluminé du XVe siècle)   FAM 1 ; cote -> FAM 1 ; nb_supp ->  ; annee ->  ; provenance ->  ; theme1 -> Berry ; theme2 ->  ; theme3 ->  ; index -> 14743', '']\n",
      "ERROR:root:['FAP 0001', \"Les prosnes évangéliques ou quatre prédications  morales sur les Evangiles de tous les dimanches de l'année .Tome premier; contenant les Prones depuis le premier Dimanche de l'Advent\", '[collectif] (-)', '  Damien Boujon et César Villerme', \" & à tous ceux qui se melent de l'instruction des Peuples . Composé par le Missionnaire des Pauvres . Clermont (jusques au second de l'Epiphanie . Ouvrage très-utile aux Curez)\", '', \"[Anonyme], Les prosnes évangéliques ou quatre prédications  morales sur les Evangiles de tous les dimanches de l'année .Tome premier; contenant les Prones depuis le premier Dimanche de l'Advent, jusques au second de l'Epiphanie . Ouvrage très-utile aux Curez, & à tous ceux qui se melent de l'instruction des Peuples . Composé par le Missionnaire des Pauvres . Clermont,  Damien Boujon et César Villerme, 1680, tome premier seul, 546 p. + table    FAP 1\", '', '', '', \"description -> [Anonyme], Les prosnes évangéliques ou quatre prédications  morales sur les Evangiles de tous les dimanches de l'année .Tome premier; contenant les Prones depuis le premier Dimanche de l'Advent, jusques au second de l'Epiphanie . Ouvrage très-utile aux Curez, & à tous ceux qui se melent de l'instruction des Peuples . Composé par le Missionnaire des Pauvres . Clermont,  Damien Boujon et César Villerme, 1680, tome premier seul, 546 p. + table    FAP 1 ; cote -> FAP 1 ; nb_supp ->  ; annee ->  ; provenance ->  ; theme1 ->  ; theme2 ->  ; theme3 ->  ; index -> 14912\", '']\n",
      "ERROR:root:['GHA 0001-ATTENTION', 'Anselme', '', '', ' GHA1(manquant dans cette ligne)', 'manquant dans cette ligne', 'manquant dans cette ligne', 'manquant dans cette ligne', '', '', 'manquant dans cette ligne', 'manquant dans cette ligne']\n",
      "ERROR:root:['GHB 0001 1-3', 'Gallia Regia ou état des officiers royaux des bailliages et des sénéchaussées de 1328 à 1515', 'Dupont-Ferrier (Gustave)', ' Imprimerie nationale', ' Paris (4 vol.)', '', 'Dupont-Ferrier (Gustave),  Gallia Regia ou état des officiers royaux des bailliages et des sénéchaussées de 1328 à 1515, 4 vol., Paris, Imprimerie nationale, 1942, Tome 1 : 631 p. Tome 2 :  638 p. Tome 3 : 617 p. Tome 4 : 560 P. GHB 1 1-3', '', ' histoire  administration royale ', '', 'description -> Dupont-Ferrier (Gustave),  Gallia Regia ou état des officiers royaux des bailliages et des sénéchaussées de 1328 à 1515, 4 vol., Paris, Imprimerie nationale, 1942, Tome 1 : 631 p. Tome 2 :  638 p. Tome 3 : 617 p. Tome 4 : 560 P. GHB 1 1-3 ; cote -> GHB 1 1-3 ; nb_supp ->  ; annee ->  ; provenance ->  ; theme1 -> histoire ; theme2 -> administration royale ; theme3 ->  ; index -> 13568', '']\n",
      "ERROR:root:['GHBR 0001', '\"Les du Cerceau', 'Palustre (Léon)', ' d\\'après de nouvelles recherches par le baron Henry de Grymüller\"', ' leur œuvre (leur vie)', '', 'Palustre (Léon), \"Les du Cerceau, leur vie, leur œuvre, d\\'après de nouvelles recherches par le baron Henry de Grymüller\", extr. du Bulletin critique, Tours, impr. Deslis, s.d. [fin 19e], 4 p. GHbr 1 ', '', ' Touraine  noblesse ', '', 'description -> Palustre (Léon), \"Les du Cerceau, leur vie, leur œuvre, d\\'après de nouvelles recherches par le baron Henry de Grymüller\", extr. du Bulletin critique, Tours, impr. Deslis, s.d. [fin 19e], 4 p. GHbr 1  ; cote -> GHbr 1 ; nb_supp ->  ; annee ->  ; provenance ->  ; theme1 -> Touraine ; theme2 -> noblesse ; theme3 ->  ; index -> 13704', '']\n",
      "ERROR:root:['GHC 0001 A-B', 'Note sur les seigneurs de Rochecot', 'Beaumont (comte charles de)', ' 1902', ' impr. Paul Bousrez (Tours)', '', 'Beaumont (comte charles de), Note sur les seigneurs de Rochecot, Tours, impr. Paul Bousrez, 1902, 72 p. GHC 1 A-B', '', ' Touraine  noblesse ', ' 1 ', 'description -> Beaumont (comte charles de), Note sur les seigneurs de Rochecot, Tours, impr. Paul Bousrez, 1902, 72 p. GHC 1 A-B ; cote -> GHC 1 A-B ; nb_supp -> 1 ; annee ->  ; provenance ->  ; theme1 -> Touraine ; theme2 -> noblesse ; theme3 ->  ; index -> 13634', '']\n",
      "ERROR:root:['GHD 0001-ATTENTION', 'Guignard de Butteville', '', ' 1901 (14e année)', \" extr. de l'Annuaire du Conseil Héraldique de France(manquant dans cette ligne)\", 'manquant dans cette ligne', 'manquant dans cette ligne', 'manquant dans cette ligne', ' Blésois  noblesse ', '', 'manquant dans cette ligne', 'manquant dans cette ligne']\n",
      "ERROR:root:['INV-ATTENTION', \"Collections du musée de l'Hôtel Goüin\", '', ' photocopie', ' inventaire tapuscrit des fonds classés Musée de France(manquant dans cette ligne)', 'manquant dans cette ligne', 'manquant dans cette ligne', 'manquant dans cette ligne', '', ' Copie de saugarde des inventaires des collections ', 'manquant dans cette ligne', 'manquant dans cette ligne']\n",
      "ERROR:root:['NUM 0001 1.15', \"Annuaire de la Société française de numismatique et d'archéologie\", 'collectif', ' 15 vol.', ' Bibliothèque et Cercle de Numismatique (Paris)', '/', ' t. I de 1866 à t. XV 1891, manquant au dépôt et au 1/6/2017 : t. VI  [vers 1880], t. XVI ?', '/', ' Numismatique ', '', \"description -> [Collectif], Annuaire de la Société française de numismatique et d'archéologie, Paris, Bibliothèque et Cercle de Numismatique, 15 vol., t. I de 1866 à t. XV 1891, NUM 1 1.15   manquant au dépôt et au 1/6/2017 : t. VI  [vers 1880], t. XVI ? ; cote -> NUM 1 1.15 ; nb_supp ->  ; annee ->  ; provenance ->  ; theme1 -> Numismatique ; theme2 ->  ; theme3 ->  ; index -> 15243\", 'Désherbé']\n",
      "ERROR:root:['NUMBR 0001', '\"Trésor de Chinon\"', 'Robert (Charles)', ' Société de Numismatique', ' Paris (extr.  Annuaire de la Société française de Numismatique)', '', 'Robert (Charles), \"Trésor de Chinon\", extr.  Annuaire de la Société française de Numismatique, Paris, Société de Numismatique, 1882, 15 p., 1 pl. h.-t., NUMbr 1', '', ' Numismatique  Touraine ', '', 'description -> Robert (Charles), \"Trésor de Chinon\", extr.  Annuaire de la Société française de Numismatique, Paris, Société de Numismatique, 1882, 15 p., 1 pl. h.-t., NUMbr 1 ; cote -> NUMbr 1 ; nb_supp ->  ; annee ->  ; provenance ->  ; theme1 -> Numismatique ; theme2 -> Touraine ; theme3 ->  ; index -> 15288', '']\n",
      "ERROR:root:['SL DEVRAIT ÊTRE DS FAG-ATTENTION', \"Histoire du ministre d'armand Jean du Plessis cardinal de Richelieu sous le règne de Louis XIII\", '', '', ' 1649 (manquant dans cette ligne)', 'manquant dans cette ligne', 'manquant dans cette ligne', 'manquant dans cette ligne', '', ' SL sans réf  Exemplaires en surnombre types B-C-D enregistrés sous la même cote au 19-02014 ', 'manquant dans cette ligne', 'manquant dans cette ligne']\n"
     ]
    }
   ],
   "source": [
    "from collections import defaultdict\n",
    "\n",
    "by_cote = defaultdict(list)\n",
    "for row in catalogue.rows:\n",
    "    by_cote[cotes[row.cote.split(\" \")[0]]].append(row)\n",
    "\n",
    "for c in by_cote:\n",
    "    ch3 = CatalogueHamelain3()\n",
    "    ch3.rows = by_cote[c]\n",
    "    ch3.update_d()\n",
    "    ExportCatalogueManager.export_hamelain_3(\".\", ch3, f\"{c}-livres-2022-11-26-\")"
   ],
   "metadata": {
    "collapsed": false
   }
  },
  {
   "cell_type": "code",
   "execution_count": 7,
   "outputs": [],
   "source": [],
   "metadata": {
    "collapsed": false
   }
  },
  {
   "cell_type": "code",
   "execution_count": 7,
   "outputs": [],
   "source": [],
   "metadata": {
    "collapsed": false
   }
  }
 ],
 "metadata": {
  "kernelspec": {
   "display_name": "Python 3",
   "language": "python",
   "name": "python3"
  },
  "language_info": {
   "codemirror_mode": {
    "name": "ipython",
    "version": 2
   },
   "file_extension": ".py",
   "mimetype": "text/x-python",
   "name": "python",
   "nbconvert_exporter": "python",
   "pygments_lexer": "ipython2",
   "version": "2.7.6"
  }
 },
 "nbformat": 4,
 "nbformat_minor": 0
}
